{
 "cells": [
  {
   "cell_type": "code",
   "execution_count": 1,
   "metadata": {},
   "outputs": [
    {
     "name": "stderr",
     "output_type": "stream",
     "text": [
      "Using TensorFlow backend.\n",
      "C:\\ProgramData\\Anaconda3\\lib\\site-packages\\tensorflow\\python\\framework\\dtypes.py:516: FutureWarning: Passing (type, 1) or '1type' as a synonym of type is deprecated; in a future version of numpy, it will be understood as (type, (1,)) / '(1,)type'.\n",
      "  _np_qint8 = np.dtype([(\"qint8\", np.int8, 1)])\n",
      "C:\\ProgramData\\Anaconda3\\lib\\site-packages\\tensorflow\\python\\framework\\dtypes.py:517: FutureWarning: Passing (type, 1) or '1type' as a synonym of type is deprecated; in a future version of numpy, it will be understood as (type, (1,)) / '(1,)type'.\n",
      "  _np_quint8 = np.dtype([(\"quint8\", np.uint8, 1)])\n",
      "C:\\ProgramData\\Anaconda3\\lib\\site-packages\\tensorflow\\python\\framework\\dtypes.py:518: FutureWarning: Passing (type, 1) or '1type' as a synonym of type is deprecated; in a future version of numpy, it will be understood as (type, (1,)) / '(1,)type'.\n",
      "  _np_qint16 = np.dtype([(\"qint16\", np.int16, 1)])\n",
      "C:\\ProgramData\\Anaconda3\\lib\\site-packages\\tensorflow\\python\\framework\\dtypes.py:519: FutureWarning: Passing (type, 1) or '1type' as a synonym of type is deprecated; in a future version of numpy, it will be understood as (type, (1,)) / '(1,)type'.\n",
      "  _np_quint16 = np.dtype([(\"quint16\", np.uint16, 1)])\n",
      "C:\\ProgramData\\Anaconda3\\lib\\site-packages\\tensorflow\\python\\framework\\dtypes.py:520: FutureWarning: Passing (type, 1) or '1type' as a synonym of type is deprecated; in a future version of numpy, it will be understood as (type, (1,)) / '(1,)type'.\n",
      "  _np_qint32 = np.dtype([(\"qint32\", np.int32, 1)])\n",
      "C:\\ProgramData\\Anaconda3\\lib\\site-packages\\tensorflow\\python\\framework\\dtypes.py:525: FutureWarning: Passing (type, 1) or '1type' as a synonym of type is deprecated; in a future version of numpy, it will be understood as (type, (1,)) / '(1,)type'.\n",
      "  np_resource = np.dtype([(\"resource\", np.ubyte, 1)])\n",
      "C:\\ProgramData\\Anaconda3\\lib\\site-packages\\tensorboard\\compat\\tensorflow_stub\\dtypes.py:541: FutureWarning: Passing (type, 1) or '1type' as a synonym of type is deprecated; in a future version of numpy, it will be understood as (type, (1,)) / '(1,)type'.\n",
      "  _np_qint8 = np.dtype([(\"qint8\", np.int8, 1)])\n",
      "C:\\ProgramData\\Anaconda3\\lib\\site-packages\\tensorboard\\compat\\tensorflow_stub\\dtypes.py:542: FutureWarning: Passing (type, 1) or '1type' as a synonym of type is deprecated; in a future version of numpy, it will be understood as (type, (1,)) / '(1,)type'.\n",
      "  _np_quint8 = np.dtype([(\"quint8\", np.uint8, 1)])\n",
      "C:\\ProgramData\\Anaconda3\\lib\\site-packages\\tensorboard\\compat\\tensorflow_stub\\dtypes.py:543: FutureWarning: Passing (type, 1) or '1type' as a synonym of type is deprecated; in a future version of numpy, it will be understood as (type, (1,)) / '(1,)type'.\n",
      "  _np_qint16 = np.dtype([(\"qint16\", np.int16, 1)])\n",
      "C:\\ProgramData\\Anaconda3\\lib\\site-packages\\tensorboard\\compat\\tensorflow_stub\\dtypes.py:544: FutureWarning: Passing (type, 1) or '1type' as a synonym of type is deprecated; in a future version of numpy, it will be understood as (type, (1,)) / '(1,)type'.\n",
      "  _np_quint16 = np.dtype([(\"quint16\", np.uint16, 1)])\n",
      "C:\\ProgramData\\Anaconda3\\lib\\site-packages\\tensorboard\\compat\\tensorflow_stub\\dtypes.py:545: FutureWarning: Passing (type, 1) or '1type' as a synonym of type is deprecated; in a future version of numpy, it will be understood as (type, (1,)) / '(1,)type'.\n",
      "  _np_qint32 = np.dtype([(\"qint32\", np.int32, 1)])\n",
      "C:\\ProgramData\\Anaconda3\\lib\\site-packages\\tensorboard\\compat\\tensorflow_stub\\dtypes.py:550: FutureWarning: Passing (type, 1) or '1type' as a synonym of type is deprecated; in a future version of numpy, it will be understood as (type, (1,)) / '(1,)type'.\n",
      "  np_resource = np.dtype([(\"resource\", np.ubyte, 1)])\n"
     ]
    }
   ],
   "source": [
    "import os\n",
    "from keras.models import Sequential\n",
    "from keras.layers import Dense, add, Activation, MaxPooling2D, Conv2D, Dropout, Flatten\n",
    "from keras.utils import np_utils\n",
    "import numpy as np\n",
    "import matplotlib.image as mpimg\n",
    "from sklearn.preprocessing import LabelEncoder\n",
    "from sklearn.model_selection import train_test_split\n",
    "import matplotlib.pyplot as plt"
   ]
  },
  {
   "cell_type": "code",
   "execution_count": 2,
   "metadata": {},
   "outputs": [],
   "source": [
    "\n",
    "\n",
    "path_aircraft = r\"Ct_Scan_Dataset\\\\covidct\"\n",
    "path_car = r\"Ct_Scan_Dataset\\\\normalct\"\n",
    "path_cat = r\"Ct_Scan_Dataset\\\\Penomoni\"\n",
    "path_dog = r\"Ct_Scan_Dataset\\\\Boronsit\"\n",
    "path_flower = r\"Ct_Scan_Dataset\\\\Possible Covid\"\n",
    "path_fruit = r\"Ct_Scan_Dataset\\\\possible Penomoni\"\n",
    "\n",
    "\n",
    "aircraft = os.listdir(path_aircraft)\n",
    "car = os.listdir(path_car)\n",
    "cat = os.listdir(path_cat)\n",
    "dog = os.listdir(path_dog)\n",
    "flower = os.listdir(path_flower)\n",
    "fruit = os.listdir(path_fruit)\n",
    "\n",
    "\n",
    "aircraft_img_path = aircraft\n",
    "car_img_path = car\n",
    "cat_img_path = cat\n",
    "dog_img_path = dog\n",
    "flower_img_path = flower\n",
    "fruit_img_path = fruit\n",
    "\n",
    "\n",
    "len_aircraft = len(aircraft)\n",
    "len_car = len(car)\n",
    "len_cat = len(cat)\n",
    "len_dog = len(dog)\n",
    "len_flower = len(flower)\n",
    "len_fruit = len(fruit)\n",
    "\n",
    "\n",
    "for i in range(0,len_aircraft):\n",
    "    aircraft_img_path[i] = os.path.abspath(os.path.join(path_aircraft,aircraft[i]))\n",
    "for i in range(0,len_car):\n",
    "    car_img_path[i] = os.path.abspath(os.path.join(path_car,car[i]))\n",
    "for i in range(0,len_cat):\n",
    "    cat_img_path[i] = os.path.abspath(os.path.join(path_cat,cat[i]))\n",
    "for i in range(0,len_dog):\n",
    "    dog_img_path[i] = os.path.abspath(os.path.join(path_dog,dog[i]))\n",
    "for i in range(0,len_flower):\n",
    "    flower_img_path[i] = os.path.abspath(os.path.join(path_flower,flower[i]))\n",
    "for i in range(0,len_fruit):\n",
    "    fruit_img_path[i] = os.path.abspath(os.path.join(path_fruit,fruit[i]))\n",
    "\n"
   ]
  },
  {
   "cell_type": "code",
   "execution_count": 3,
   "metadata": {},
   "outputs": [],
   "source": [
    "img_aircraft = np.zeros([727,64,64,3])\n",
    "for i in range(0,len_aircraft):\n",
    "    aa = mpimg.imread(aircraft_img_path[i])\n",
    "    img_aircraft[i] = np.resize(aa,(64,64,3))\n",
    "    \n",
    "img_car = np.zeros([968,64,64,3])\n",
    "for i in range(0,len_car):\n",
    "    bb = mpimg.imread(car_img_path[i])\n",
    "    img_car[i] = np.resize(bb,(64,64,3))\n",
    "\n",
    "img_cat = np.zeros([885,64,64,3])\n",
    "for i in range(0,len_cat):\n",
    "    cc = mpimg.imread(cat_img_path[i])\n",
    "    img_cat[i] = np.resize(cc,(64,64,3))\n",
    "    \n",
    "img_dog = np.zeros([702,64,64,3])\n",
    "for i in range(0,len_dog):\n",
    "    dd = mpimg.imread(dog_img_path[i])\n",
    "    img_dog[i] = np.resize(dd,(64,64,3))\n",
    "    \n",
    "img_flower = np.zeros([843,64,64,3])\n",
    "for i in range(0,len_flower):\n",
    "    ee = mpimg.imread(flower_img_path[i])\n",
    "    img_flower[i] = np.resize(ee,(64,64,3))\n",
    "    \n",
    "img_fruit = np.zeros([1000,64,64,3])\n",
    "for i in range(0,len_fruit):\n",
    "    ff = mpimg.imread(fruit_img_path[i])\n",
    "    img_fruit[i] = np.resize(ff,(64,64,3))"
   ]
  },
  {
   "cell_type": "code",
   "execution_count": 4,
   "metadata": {},
   "outputs": [],
   "source": [
    "X = np.concatenate((img_aircraft, img_car), axis=0)\n",
    "X = np.concatenate((X, img_cat), axis=0)\n",
    "X = np.concatenate((X, img_dog), axis=0)\n",
    "X = np.concatenate((X, img_flower), axis=0)\n",
    "X = np.concatenate((X, img_fruit), axis=0)\n"
   ]
  },
  {
   "cell_type": "code",
   "execution_count": 5,
   "metadata": {},
   "outputs": [],
   "source": [
    "y1 = np.chararray((727,1), itemsize=8)\n",
    "y1[:] = 'covidct'\n",
    "y2 = np.chararray((968,1), itemsize=3)\n",
    "y2[:] = 'normalct'\n",
    "y3 = np.chararray((885,1), itemsize=3)\n",
    "y3[:] = 'Penomoni'\n",
    "y4 = np.chararray((702,1), itemsize=3)\n",
    "y4[:] = 'Boronsit'\n",
    "y5 = np.chararray((843,1), itemsize=6)\n",
    "y5[:] = 'Possible Covid'\n",
    "y6 = np.chararray((1000,1), itemsize=5)\n",
    "y6[:] = 'possible Penomoni'"
   ]
  },
  {
   "cell_type": "code",
   "execution_count": 6,
   "metadata": {},
   "outputs": [],
   "source": [
    "y = np.concatenate((y1, y2), axis=0)\n",
    "y = np.concatenate((y, y3), axis=0)\n",
    "y = np.concatenate((y, y4), axis=0)\n",
    "y = np.concatenate((y, y5), axis=0)\n",
    "y = np.concatenate((y, y6), axis=0)\n",
    "#y = np.concatenate((y, y7), axis=0)\n",
    "#y = np.concatenate((y, y8), axis=0)"
   ]
  },
  {
   "cell_type": "code",
   "execution_count": 7,
   "metadata": {},
   "outputs": [
    {
     "name": "stderr",
     "output_type": "stream",
     "text": [
      "C:\\ProgramData\\Anaconda3\\lib\\site-packages\\sklearn\\preprocessing\\_label.py:251: DataConversionWarning: A column-vector y was passed when a 1d array was expected. Please change the shape of y to (n_samples, ), for example using ravel().\n",
      "  y = column_or_1d(y, warn=True)\n",
      "C:\\ProgramData\\Anaconda3\\lib\\site-packages\\sklearn\\preprocessing\\_label.py:268: DataConversionWarning: A column-vector y was passed when a 1d array was expected. Please change the shape of y to (n_samples, ), for example using ravel().\n",
      "  y = column_or_1d(y, warn=True)\n"
     ]
    }
   ],
   "source": [
    "from sklearn.preprocessing import LabelEncoder\n",
    "from keras.utils import np_utils\n",
    "encoder = LabelEncoder()\n",
    "encoder.fit_transform(y)\n",
    "y_encoded = encoder.transform(y)\n",
    "\n",
    "y_dummy = np_utils.to_categorical(y_encoded)"
   ]
  },
  {
   "cell_type": "code",
   "execution_count": 8,
   "metadata": {},
   "outputs": [],
   "source": [
    "X_train, X_test, y_train, y_test = train_test_split(X, y_dummy, test_size=0.23, random_state=42)"
   ]
  },
  {
   "cell_type": "code",
   "execution_count": 9,
   "metadata": {},
   "outputs": [
    {
     "name": "stdout",
     "output_type": "stream",
     "text": [
      "WARNING:tensorflow:From C:\\ProgramData\\Anaconda3\\lib\\site-packages\\keras\\backend\\tensorflow_backend.py:74: The name tf.get_default_graph is deprecated. Please use tf.compat.v1.get_default_graph instead.\n",
      "\n",
      "WARNING:tensorflow:From C:\\ProgramData\\Anaconda3\\lib\\site-packages\\keras\\backend\\tensorflow_backend.py:517: The name tf.placeholder is deprecated. Please use tf.compat.v1.placeholder instead.\n",
      "\n",
      "WARNING:tensorflow:From C:\\ProgramData\\Anaconda3\\lib\\site-packages\\keras\\backend\\tensorflow_backend.py:4138: The name tf.random_uniform is deprecated. Please use tf.random.uniform instead.\n",
      "\n",
      "WARNING:tensorflow:From C:\\ProgramData\\Anaconda3\\lib\\site-packages\\keras\\backend\\tensorflow_backend.py:3976: The name tf.nn.max_pool is deprecated. Please use tf.nn.max_pool2d instead.\n",
      "\n",
      "WARNING:tensorflow:From C:\\ProgramData\\Anaconda3\\lib\\site-packages\\keras\\backend\\tensorflow_backend.py:133: The name tf.placeholder_with_default is deprecated. Please use tf.compat.v1.placeholder_with_default instead.\n",
      "\n",
      "WARNING:tensorflow:From C:\\ProgramData\\Anaconda3\\lib\\site-packages\\keras\\backend\\tensorflow_backend.py:3445: calling dropout (from tensorflow.python.ops.nn_ops) with keep_prob is deprecated and will be removed in a future version.\n",
      "Instructions for updating:\n",
      "Please use `rate` instead of `keep_prob`. Rate should be set to `rate = 1 - keep_prob`.\n"
     ]
    }
   ],
   "source": [
    "model = Sequential()\n",
    "model.add(Conv2D(32, (3,3), input_shape=(64,64,3), activation='relu'))\n",
    "model.add(MaxPooling2D(pool_size=(2,2)))\n",
    "model.add(Conv2D(32, (3,3), activation='relu'))\n",
    "model.add(MaxPooling2D(pool_size=(2,2)))\n",
    "model.add(Flatten())\n",
    "model.add(Dense(128, activation=\"relu\"))\n",
    "model.add(Dropout(0.2))\n",
    "model.add(Dense(64, activation=\"relu\"))\n",
    "model.add(Dropout(0.2))\n",
    "model.add(Dense(16, activation=\"relu\"))\n",
    "model.add(Dropout(0.2))\n",
    "model.add(Dense(6, activation=\"sigmoid\"))"
   ]
  },
  {
   "cell_type": "code",
   "execution_count": 10,
   "metadata": {},
   "outputs": [
    {
     "name": "stdout",
     "output_type": "stream",
     "text": [
      "WARNING:tensorflow:From C:\\ProgramData\\Anaconda3\\lib\\site-packages\\keras\\optimizers.py:790: The name tf.train.Optimizer is deprecated. Please use tf.compat.v1.train.Optimizer instead.\n",
      "\n",
      "WARNING:tensorflow:From C:\\ProgramData\\Anaconda3\\lib\\site-packages\\keras\\backend\\tensorflow_backend.py:3376: The name tf.log is deprecated. Please use tf.math.log instead.\n",
      "\n",
      "WARNING:tensorflow:From C:\\ProgramData\\Anaconda3\\lib\\site-packages\\tensorflow\\python\\ops\\nn_impl.py:180: add_dispatch_support.<locals>.wrapper (from tensorflow.python.ops.array_ops) is deprecated and will be removed in a future version.\n",
      "Instructions for updating:\n",
      "Use tf.where in 2.0, which has the same broadcast rule as np.where\n"
     ]
    }
   ],
   "source": [
    "model.compile(loss='binary_crossentropy', optimizer='adam', metrics=['accuracy'])"
   ]
  },
  {
   "cell_type": "code",
   "execution_count": 11,
   "metadata": {
    "scrolled": true
   },
   "outputs": [
    {
     "name": "stdout",
     "output_type": "stream",
     "text": [
      "Epoch 1/10\n",
      "3946/3946 [==============================] - 40s 10ms/step - loss: 0.5110 - acc: 0.8214\n",
      "Epoch 2/10\n",
      "3946/3946 [==============================] - 33s 8ms/step - loss: 0.4841 - acc: 0.8324\n",
      "Epoch 3/10\n",
      "3946/3946 [==============================] - 35s 9ms/step - loss: 0.4674 - acc: 0.8330\n",
      "Epoch 4/10\n",
      "3946/3946 [==============================] - 34s 9ms/step - loss: 0.4608 - acc: 0.8333\n",
      "Epoch 5/10\n",
      "3946/3946 [==============================] - 35s 9ms/step - loss: 0.4562 - acc: 0.8333\n",
      "Epoch 6/10\n",
      "3946/3946 [==============================] - 35s 9ms/step - loss: 0.4546 - acc: 0.8334\n",
      "Epoch 7/10\n",
      "3946/3946 [==============================] - 36s 9ms/step - loss: 0.4547 - acc: 0.8334\n",
      "Epoch 8/10\n",
      "3946/3946 [==============================] - 37s 9ms/step - loss: 0.4534 - acc: 0.8334\n",
      "Epoch 9/10\n",
      "3946/3946 [==============================] - 34s 9ms/step - loss: 0.4538 - acc: 0.8334\n",
      "Epoch 10/10\n",
      "3946/3946 [==============================] - 35s 9ms/step - loss: 0.4532 - acc: 0.8334\n"
     ]
    }
   ],
   "source": [
    "H1 = model.fit(X_train, y_train, epochs=10, batch_size=10, verbose=1)"
   ]
  },
  {
   "cell_type": "code",
   "execution_count": 12,
   "metadata": {},
   "outputs": [
    {
     "name": "stdout",
     "output_type": "stream",
     "text": [
      "_________________________________________________________________\n",
      "Layer (type)                 Output Shape              Param #   \n",
      "=================================================================\n",
      "conv2d_1 (Conv2D)            (None, 62, 62, 32)        896       \n",
      "_________________________________________________________________\n",
      "max_pooling2d_1 (MaxPooling2 (None, 31, 31, 32)        0         \n",
      "_________________________________________________________________\n",
      "conv2d_2 (Conv2D)            (None, 29, 29, 32)        9248      \n",
      "_________________________________________________________________\n",
      "max_pooling2d_2 (MaxPooling2 (None, 14, 14, 32)        0         \n",
      "_________________________________________________________________\n",
      "flatten_1 (Flatten)          (None, 6272)              0         \n",
      "_________________________________________________________________\n",
      "dense_1 (Dense)              (None, 128)               802944    \n",
      "_________________________________________________________________\n",
      "dropout_1 (Dropout)          (None, 128)               0         \n",
      "_________________________________________________________________\n",
      "dense_2 (Dense)              (None, 64)                8256      \n",
      "_________________________________________________________________\n",
      "dropout_2 (Dropout)          (None, 64)                0         \n",
      "_________________________________________________________________\n",
      "dense_3 (Dense)              (None, 16)                1040      \n",
      "_________________________________________________________________\n",
      "dropout_3 (Dropout)          (None, 16)                0         \n",
      "_________________________________________________________________\n",
      "dense_4 (Dense)              (None, 6)                 102       \n",
      "=================================================================\n",
      "Total params: 822,486\n",
      "Trainable params: 822,486\n",
      "Non-trainable params: 0\n",
      "_________________________________________________________________\n"
     ]
    }
   ],
   "source": [
    "model.summary()"
   ]
  },
  {
   "cell_type": "code",
   "execution_count": 13,
   "metadata": {},
   "outputs": [
    {
     "name": "stdout",
     "output_type": "stream",
     "text": [
      "dict_keys(['loss', 'acc'])\n"
     ]
    },
    {
     "data": {
      "image/png": "[encoded data removed]",
      "text/plain": [
       "<Figure size 432x288 with 1 Axes>"
      ]
     },
     "metadata": {
      "needs_background": "light"
     },
     "output_type": "display_data"
    }
   ],
   "source": [
    "print(H1.history.keys())\n",
    "\n",
    "plt.plot(H1.history[\"loss\"])\n",
    "plt.plot(H1.history[\"acc\"])\n",
    "plt.legend(['loss', 'accuracy'], loc='upper left')\n",
    "plt.xlabel(\"epochs\")\n",
    "plt.ylabel(\"loss & accuracy maeasure\")\n",
    "plt.title(\"Distribution of Accuracy and Loss over the epochs\")\n",
    "plt.show()"
   ]
  },
  {
   "cell_type": "code",
   "execution_count": 14,
   "metadata": {},
   "outputs": [
    {
     "name": "stdout",
     "output_type": "stream",
     "text": [
      "1179/1179 [==============================] - 3s 2ms/step\n",
      "The score loss of test model is 0.449376\n",
      "The score accuracy of test model is 83.333331\n"
     ]
    }
   ],
   "source": [
    "score = model.evaluate(X_test, y_test, verbose=1)\n",
    "print(\"The score loss of test model is %f\" %(score[0]))\n",
    "print(\"The score accuracy of test model is %f\" %(score[1]*100))"
   ]
  },
  {
   "cell_type": "code",
   "execution_count": 15,
   "metadata": {},
   "outputs": [
    {
     "name": "stdout",
     "output_type": "stream",
     "text": [
      "1179/1179 [==============================] - 2s 2ms/step\n",
      "The accuracy of the predicted model using the deep learning multi class classification is 99.721446%\n"
     ]
    }
   ],
   "source": [
    "y_pred = model.predict(X_test,  batch_size=100, verbose=1)\n",
    "print(\"The accuracy of the predicted model using the deep learning multi class classification is %f\" %(100-np.mean(np.abs(y_pred - y_test)))+'%')"
   ]
  },
  {
   "cell_type": "code",
   "execution_count": 16,
   "metadata": {},
   "outputs": [
    {
     "data": {
      "text/plain": [
       "(array([0.13980243, 0.17555225, 0.16482499, 0.14041427, 0.19734168,\n",
       "        0.19777805], dtype=float32),\n",
       " array([0., 0., 1., 0., 0., 0.], dtype=float32))"
      ]
     },
     "execution_count": 16,
     "metadata": {},
     "output_type": "execute_result"
    }
   ],
   "source": [
    "y_pred[3], y_test[3]"
   ]
  },
  {
   "cell_type": "code",
   "execution_count": 17,
   "metadata": {},
   "outputs": [
    {
     "data": {
      "text/plain": [
       "(1179, 6)"
      ]
     },
     "execution_count": 17,
     "metadata": {},
     "output_type": "execute_result"
    }
   ],
   "source": [
    "y_pred.shape"
   ]
  },
  {
   "cell_type": "code",
   "execution_count": 18,
   "metadata": {},
   "outputs": [
    {
     "data": {
      "text/plain": [
       "(1179, 6)"
      ]
     },
     "execution_count": 18,
     "metadata": {},
     "output_type": "execute_result"
    }
   ],
   "source": [
    "y_pred.shape"
   ]
  },
  {
   "cell_type": "code",
   "execution_count": 19,
   "metadata": {},
   "outputs": [
    {
     "data": {
      "text/plain": [
       "(1179, 6)"
      ]
     },
     "execution_count": 19,
     "metadata": {},
     "output_type": "execute_result"
    }
   ],
   "source": [
    "y_pred.shape\n"
   ]
  },
  {
   "cell_type": "code",
   "execution_count": 23,
   "metadata": {},
   "outputs": [
    {
     "ename": "NameError",
     "evalue": "name 'cv2' is not defined",
     "output_type": "error",
     "traceback": [
      "\u001b[1;31m---------------------------------------------------------------------------\u001b[0m",
      "\u001b[1;31mNameError\u001b[0m                                 Traceback (most recent call last)",
      "\u001b[1;32m<ipython-input-23-0a06afa4fae9>\u001b[0m in \u001b[0;36m<module>\u001b[1;34m()\u001b[0m\n\u001b[0;32m      8\u001b[0m \u001b[1;31m# training_set.class_indices\u001b[0m\u001b[1;33m\u001b[0m\u001b[1;33m\u001b[0m\u001b[0m\n\u001b[0;32m      9\u001b[0m \u001b[1;33m\u001b[0m\u001b[0m\n\u001b[1;32m---> 10\u001b[1;33m \u001b[0mimggg\u001b[0m \u001b[1;33m=\u001b[0m \u001b[0mcv2\u001b[0m\u001b[1;33m.\u001b[0m\u001b[0mimread\u001b[0m\u001b[1;33m(\u001b[0m\u001b[1;34m'0.jpg'\u001b[0m\u001b[1;33m)\u001b[0m\u001b[1;33m\u001b[0m\u001b[0m\n\u001b[0m\u001b[0;32m     11\u001b[0m \u001b[0mprint\u001b[0m\u001b[1;33m(\u001b[0m\u001b[1;34m\"This Xray Image is of Negative covid-19 patient\"\u001b[0m\u001b[1;33m)\u001b[0m\u001b[1;33m\u001b[0m\u001b[0m\n\u001b[0;32m     12\u001b[0m \u001b[0mimggg\u001b[0m \u001b[1;33m=\u001b[0m \u001b[0mnp\u001b[0m\u001b[1;33m.\u001b[0m\u001b[0marray\u001b[0m\u001b[1;33m(\u001b[0m\u001b[0mimggg\u001b[0m\u001b[1;33m)\u001b[0m\u001b[1;33m\u001b[0m\u001b[0m\n",
      "\u001b[1;31mNameError\u001b[0m: name 'cv2' is not defined"
     ]
    }
   ],
   "source": [
    "import numpy as np\n",
    "#from google.colab.patches import cv2_imshow\n",
    "from keras.preprocessing import image\n",
    "xtest_image = image.load_img('0.jpg', target_size = (64, 64))\n",
    "xtest_image = image.img_to_array(xtest_image)\n",
    "xtest_image = np.expand_dims(xtest_image, axis = 0)\n",
    "results = model.predict_classes(xtest_image)\n",
    "# training_set.class_indices\n",
    "\n",
    "imggg = cv2.imread('0.jpg')\n",
    "print(\"This Xray Image is of Negative covid-19 patient\")\n",
    "imggg = np.array(imggg)\n",
    "imggg = cv2.resize(imggg,(400,400))\n",
    "\n",
    "plt.imshow(imggg)\n",
    "# cv2_imshow(imggg)\n",
    "# print(results)\n",
    "#if results[0][0] == 0:\n",
    "#    prediction = 'Positive For Covid-19'\n",
    "#else:\n",
    "#    prediction = 'Negative for Covid-19'\n",
    "    \n",
    "    \n",
    "#print(\"Prediction Of Our Model : \",prediction)"
   ]
  },
  {
   "cell_type": "code",
   "execution_count": 25,
   "metadata": {},
   "outputs": [],
   "source": [
    "model = Sequential()\n",
    "model.add(Conv2D(32,(3,3),activation = \"relu\",input_shape=(224,224,3)))\n",
    "model.add(Conv2D(64,(3,3),activation = \"relu\"))\n",
    "model.add(MaxPooling2D((2,2)))\n",
    "model.add(Dropout(0.3))\n",
    "\n",
    "model.add(Conv2D(64,(3,3),activation = 'relu'))\n",
    "model.add(MaxPooling2D((2,2)))\n",
    "model.add(Dropout(0.3))\n",
    "\n",
    "model.add(Conv2D(128,(3,3),activation ='relu'))\n",
    "model.add(MaxPooling2D((2,2)))\n",
    "model.add(Dropout(0.3))\n",
    "\n",
    "model.add(Flatten())\n",
    "model.add(Dense(64,activation = \"relu\"))\n",
    "model.add(Dropout(0.4))\n",
    "model.add(Dense(6,activation = 'sigmoid'))\n",
    "\n",
    "model.compile(loss = 'binary_crossentropy',optimizer = \"adam\",metrics = [\"accuracy\"])"
   ]
  },
  {
   "cell_type": "code",
   "execution_count": 26,
   "metadata": {},
   "outputs": [
    {
     "name": "stdout",
     "output_type": "stream",
     "text": [
      "_________________________________________________________________\n",
      "Layer (type)                 Output Shape              Param #   \n",
      "=================================================================\n",
      "conv2d_7 (Conv2D)            (None, 222, 222, 32)      896       \n",
      "_________________________________________________________________\n",
      "conv2d_8 (Conv2D)            (None, 220, 220, 64)      18496     \n",
      "_________________________________________________________________\n",
      "max_pooling2d_6 (MaxPooling2 (None, 110, 110, 64)      0         \n",
      "_________________________________________________________________\n",
      "dropout_8 (Dropout)          (None, 110, 110, 64)      0         \n",
      "_________________________________________________________________\n",
      "conv2d_9 (Conv2D)            (None, 108, 108, 64)      36928     \n",
      "_________________________________________________________________\n",
      "max_pooling2d_7 (MaxPooling2 (None, 54, 54, 64)        0         \n",
      "_________________________________________________________________\n",
      "dropout_9 (Dropout)          (None, 54, 54, 64)        0         \n",
      "_________________________________________________________________\n",
      "conv2d_10 (Conv2D)           (None, 52, 52, 128)       73856     \n",
      "_________________________________________________________________\n",
      "max_pooling2d_8 (MaxPooling2 (None, 26, 26, 128)       0         \n",
      "_________________________________________________________________\n",
      "dropout_10 (Dropout)         (None, 26, 26, 128)       0         \n",
      "_________________________________________________________________\n",
      "flatten_3 (Flatten)          (None, 86528)             0         \n",
      "_________________________________________________________________\n",
      "dense_7 (Dense)              (None, 64)                5537856   \n",
      "_________________________________________________________________\n",
      "dropout_11 (Dropout)         (None, 64)                0         \n",
      "_________________________________________________________________\n",
      "dense_8 (Dense)              (None, 6)                 390       \n",
      "=================================================================\n",
      "Total params: 5,668,422\n",
      "Trainable params: 5,668,422\n",
      "Non-trainable params: 0\n",
      "_________________________________________________________________\n"
     ]
    }
   ],
   "source": [
    "model.summary()"
   ]
  },
  {
   "cell_type": "code",
   "execution_count": 27,
   "metadata": {},
   "outputs": [],
   "source": [
    "train_gen = image.ImageDataGenerator(\n",
    "    rescale = 1./255,\n",
    "    shear_range = 0.2,\n",
    "    zoom_range = 0.2,\n",
    "    horizontal_flip = True,\n",
    ")\n",
    "\n",
    "val_gen = image.ImageDataGenerator(\n",
    "    rescale = 1./255\n",
    ")"
   ]
  },
  {
   "cell_type": "code",
   "execution_count": 32,
   "metadata": {},
   "outputs": [
    {
     "name": "stdout",
     "output_type": "stream",
     "text": [
      "Found 291 images belonging to 6 classes.\n",
      "Found 353 images belonging to 6 classes.\n"
     ]
    }
   ],
   "source": [
    "train_generator = train_gen.flow_from_directory(\n",
    "    \"DataSet\\seg_train\",\n",
    "    target_size = (224,224),\n",
    "    batch_size = 32,\n",
    "    class_mode = \"categorical\",\n",
    ")\n",
    "val_generator = val_gen.flow_from_directory(\n",
    "    \"DataSet\\seg_test\",\n",
    "    target_size = (224,224),\n",
    "    batch_size = 32,\n",
    "    class_mode = \"categorical\",\n",
    ")"
   ]
  },
  {
   "cell_type": "code",
   "execution_count": 33,
   "metadata": {},
   "outputs": [
    {
     "data": {
      "text/plain": [
       "{'Boronsit': 0,\n",
       " 'Penomoni': 1,\n",
       " 'Possible Covid': 2,\n",
       " 'covidct': 3,\n",
       " 'normalct': 4,\n",
       " 'possible Penomoni': 5}"
      ]
     },
     "execution_count": 33,
     "metadata": {},
     "output_type": "execute_result"
    }
   ],
   "source": [
    "train_generator.class_indices"
   ]
  },
  {
   "cell_type": "code",
   "execution_count": 34,
   "metadata": {},
   "outputs": [],
   "source": [
    "from keras.callbacks import ModelCheckpoint,EarlyStopping"
   ]
  },
  {
   "cell_type": "code",
   "execution_count": 35,
   "metadata": {},
   "outputs": [
    {
     "name": "stdout",
     "output_type": "stream",
     "text": [
      "Epoch 1/10\n",
      "9/9 [==============================] - 185s 21s/step - loss: 0.9693 - acc: 0.7448 - val_loss: 0.5097 - val_acc: 0.8333\n",
      "Epoch 2/10\n",
      "9/9 [==============================] - 137s 15s/step - loss: 0.5068 - acc: 0.8269 - val_loss: 0.5085 - val_acc: 0.8333\n",
      "Epoch 3/10\n",
      "9/9 [==============================] - 130s 14s/step - loss: 0.4891 - acc: 0.8263 - val_loss: 0.5027 - val_acc: 0.8333\n",
      "Epoch 4/10\n",
      "9/9 [==============================] - 129s 14s/step - loss: 0.4817 - acc: 0.8175 - val_loss: 0.4891 - val_acc: 0.8333\n",
      "Epoch 5/10\n",
      "9/9 [==============================] - 131s 15s/step - loss: 0.4888 - acc: 0.8169 - val_loss: 0.5127 - val_acc: 0.8333\n",
      "Epoch 6/10\n",
      "9/9 [==============================] - 125s 14s/step - loss: 0.4856 - acc: 0.8234 - val_loss: 0.4930 - val_acc: 0.8333\n",
      "Epoch 7/10\n",
      "9/9 [==============================] - 130s 14s/step - loss: 0.4807 - acc: 0.8246 - val_loss: 0.4877 - val_acc: 0.8333\n",
      "Epoch 8/10\n",
      "9/9 [==============================] - 131s 15s/step - loss: 0.4667 - acc: 0.8254 - val_loss: 0.4736 - val_acc: 0.8333\n",
      "Epoch 9/10\n",
      "9/9 [==============================] - 130s 14s/step - loss: 0.4765 - acc: 0.8316 - val_loss: 0.4728 - val_acc: 0.8333\n",
      "Epoch 10/10\n",
      "9/9 [==============================] - 131s 15s/step - loss: 0.4764 - acc: 0.8281 - val_loss: 0.5004 - val_acc: 0.8333\n"
     ]
    }
   ],
   "source": [
    "hist = model.fit_generator(\n",
    "    train_generator,\n",
    "    steps_per_epoch=9,\n",
    "    epochs=10,\n",
    "    validation_data = val_generator,\n",
    "    validation_steps = 2,\n",
    "    shuffle=True\n",
    ")"
   ]
  },
  {
   "cell_type": "markdown",
   "metadata": {},
   "source": [
    "## Testing the trained model"
   ]
  },
  {
   "cell_type": "code",
   "execution_count": 38,
   "metadata": {},
   "outputs": [
    {
     "name": "stdout",
     "output_type": "stream",
     "text": [
      "(114, 224, 224, 3)\n"
     ]
    }
   ],
   "source": [
    "val_path = \"Ct_Scan_Dataset\"\n",
    "test_imgs = []\n",
    "\n",
    "for img_ in os.listdir(val_path+\"/covidct\"):\n",
    "    img_path = os.path.join(val_path+\"/covidct\",img_)\n",
    "    img = image.load_img(img_path,target_size = (224,224))\n",
    "    img = image.img_to_array(img)/255.0\n",
    "    test_imgs.append(img)\n",
    "    \n",
    "for img_ in os.listdir(val_path+\"/normalct\"):\n",
    "    img_path = os.path.join(val_path+\"/normalct\",img_)\n",
    "    img = image.load_img(img_path,target_size = (224,224))\n",
    "    img = image.img_to_array(img)/255.0\n",
    "    test_imgs.append(img)\n",
    "\n",
    "    \n",
    "for img_ in os.listdir(val_path+\"/normalct\"):\n",
    "    img_path = os.path.join(val_path+\"/normalct\",img_)\n",
    "    img = image.load_img(img_path,target_size = (224,224))\n",
    "    img = image.img_to_array(img)/255.0\n",
    "    test_imgs.append(img)\n",
    "\n",
    "for img_ in os.listdir(val_path+\"/Boronsit\"):\n",
    "    img_path = os.path.join(val_path+\"/Boronsit\",img_)\n",
    "    img = image.load_img(img_path,target_size = (224,224))\n",
    "    img = image.img_to_array(img)/255.0\n",
    "    test_imgs.append(img)\n",
    "    \n",
    "for img_ in os.listdir(val_path+\"/Penomoni\"):\n",
    "    img_path = os.path.join(val_path+\"/Penomoni\",img_)\n",
    "    img = image.load_img(img_path,target_size = (224,224))\n",
    "    img = image.img_to_array(img)/255.0\n",
    "    test_imgs.append(img)\n",
    "for img_ in os.listdir(val_path+\"/Possible Covid\"):\n",
    "    img_path = os.path.join(val_path+\"/Possible Covid\",img_)\n",
    "    img = image.load_img(img_path,target_size = (224,224))\n",
    "    img = image.img_to_array(img)/255.0\n",
    "    test_imgs.append(img)\n",
    "for img_ in os.listdir(val_path+\"/possible Penomoni\"):\n",
    "    img_path = os.path.join(val_path+\"/possible Penomoni\",img_)\n",
    "    img = image.load_img(img_path,target_size = (224,224))\n",
    "    img = image.img_to_array(img)/255.0\n",
    "    test_imgs.append(img)\n",
    "test_imgs = np.array(test_imgs)\n",
    "print(test_imgs.shape)"
   ]
  },
  {
   "cell_type": "code",
   "execution_count": 41,
   "metadata": {},
   "outputs": [
    {
     "name": "stdout",
     "output_type": "stream",
     "text": [
      "(114,)\n",
      "[0. 0. 0. 0. 0. 0. 0. 0. 0. 0. 0. 0. 0. 0. 0. 0. 0. 0. 0. 0. 0. 0. 0. 0.\n",
      " 0. 0. 0. 0. 0. 0. 0. 0. 0. 0. 0. 0. 0. 0. 0. 0. 0. 0. 0. 0. 0. 0. 0. 0.\n",
      " 0. 0. 0. 0. 0. 0. 0. 0. 0. 1. 1. 1. 1. 1. 1. 1. 1. 1. 1. 1. 1. 1. 1. 1.\n",
      " 1. 1. 1. 1. 1. 1. 1. 1. 1. 1. 1. 1. 1. 1. 1. 1. 1. 1. 1. 1. 1. 1. 1. 1.\n",
      " 1. 1. 1. 1. 1. 1. 1. 1. 1. 1. 1. 1. 1. 1. 1. 1. 1. 1.]\n"
     ]
    }
   ],
   "source": [
    "# labels of all the images\n",
    "# Boronsit --> 0, Penomoni --> 1, Possible Covid --> 2, covidct --> 3, normalct --> 4, possible Penomoni --> 5    \n",
    "lth = int(test_imgs.shape[0]/2)\n",
    "labels = np.hstack((np.zeros(lth),np.ones(lth)))\n",
    "print(labels.shape)\n",
    "print(labels)"
   ]
  },
  {
   "cell_type": "code",
   "execution_count": 46,
   "metadata": {},
   "outputs": [
    {
     "name": "stdout",
     "output_type": "stream",
     "text": [
      "[5 5 5 5 5 5 5 5 5 5 5 5 2 2 2 2 5 5 5 5 2 2 2 2 5 5 5 5 5 5 5 5 5 5 5 5 5\n",
      " 5 5 5 5 5 2 5 5 5 5 5 5 5 5 5 5 5 5 5 5 5 5 5 5 2 5 5 5 5 5 5 5 5 5 5 5 5\n",
      " 5 5 5 5 5 5 5 5 5 5 5 5 5 5 5 5 5 5 5 5 5 5 5 5 5 5 5 5 5 5 5 5 5 5 5 5 5\n",
      " 5 5 5]\n"
     ]
    }
   ],
   "source": [
    "y_pred = []\n",
    "for i in range(test_imgs.shape[0]):\n",
    "    img = np.expand_dims(test_imgs[i],axis=0)\n",
    "    pred = model.predict_classes(img)\n",
    "    y_pred.append(pred[0])\n",
    "\n",
    "y_pred = np.array(y_pred)\n",
    "print(y_pred)"
   ]
  },
  {
   "cell_type": "code",
   "execution_count": 43,
   "metadata": {},
   "outputs": [
    {
     "data": {
      "text/plain": [
       "['conv2d_7',\n",
       " 'conv2d_8',\n",
       " 'max_pooling2d_6',\n",
       " 'dropout_8',\n",
       " 'conv2d_9',\n",
       " 'max_pooling2d_7',\n",
       " 'dropout_9',\n",
       " 'conv2d_10',\n",
       " 'max_pooling2d_8',\n",
       " 'dropout_10',\n",
       " 'flatten_3',\n",
       " 'dense_7',\n",
       " 'dropout_11',\n",
       " 'dense_8']"
      ]
     },
     "execution_count": 43,
     "metadata": {},
     "output_type": "execute_result"
    }
   ],
   "source": [
    "[i.name for i in model.layers]"
   ]
  },
  {
   "cell_type": "code",
   "execution_count": null,
   "metadata": {},
   "outputs": [],
   "source": []
  }
 ],
 "metadata": {
  "kernelspec": {
   "display_name": "Python 3",
   "language": "python",
   "name": "python3"
  },
  "language_info": {
   "codemirror_mode": {
    "name": "ipython",
    "version": 3
   },
   "file_extension": ".py",
   "mimetype": "text/x-python",
   "name": "python",
   "nbconvert_exporter": "python",
   "pygments_lexer": "ipython3",
   "version": "3.7.0"
  }
 },
 "nbformat": 4,
 "nbformat_minor": 2
}
